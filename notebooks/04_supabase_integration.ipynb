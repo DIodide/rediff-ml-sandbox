{
  "cells": [
    {
      "cell_type": "raw",
      "metadata": {
        "vscode": {
          "languageId": "raw"
        }
      },
      "source": [
        "# Supabase Database Integration\n",
        "\n",
        "This notebook demonstrates how to connect to and work with your Supabase PostgreSQL database for storing structured data, metadata, and working with your ML pipelines.\n"
      ]
    },
    {
      "cell_type": "code",
      "execution_count": null,
      "metadata": {},
      "outputs": [],
      "source": [
        "# Setup and imports\n",
        "import pandas as pd\n",
        "import numpy as np\n",
        "import os\n",
        "from dotenv import load_dotenv\n",
        "from datetime import datetime\n",
        "\n",
        "# Load our custom utilities\n",
        "import sys\n",
        "sys.path.append('../src')\n",
        "\n",
        "from utils.supabase_utils import SupabaseManager, SupabaseConfig, create_supabase_manager_from_env\n",
        "from utils.config_utils import load_env_file\n",
        "\n",
        "# Load environment variables\n",
        "load_env_file()\n",
        "\n",
        "print(\"Supabase integration setup complete!\")\n"
      ]
    }
  ],
  "metadata": {
    "language_info": {
      "name": "python"
    }
  },
  "nbformat": 4,
  "nbformat_minor": 2
}
