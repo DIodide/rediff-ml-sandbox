{
  "cells": [
    {
      "cell_type": "raw",
      "metadata": {
        "vscode": {
          "languageId": "raw"
        }
      },
      "source": [
        "# Graph Machine Learning Basics\n",
        "\n",
        "To be used as reference for implementing graph similarity methods when looking at git diffs.\n",
        "This notebook demonstrates fundamental concepts in graph machine learning using NetworkX and PyTorch Geometric.\n"
      ]
    },
    {
      "cell_type": "code",
      "execution_count": null,
      "metadata": {},
      "outputs": [],
      "source": [
        "import torch\n",
        "import torch.nn.functional as F\n",
        "import networkx as nx\n",
        "import numpy as np\n",
        "import matplotlib.pyplot as plt\n",
        "from torch_geometric.data import Data\n",
        "from torch_geometric.nn import GCNConv\n",
        "from torch_geometric.datasets import Planetoid\n",
        "from torch_geometric.transforms import NormalizeFeatures\n",
        "\n",
        "print(\"Libraries imported successfully!\")\n"
      ]
    },
    {
      "cell_type": "raw",
      "metadata": {
        "vscode": {
          "languageId": "raw"
        }
      },
      "source": [
        "## 1. Creating and Visualizing Graphs with NetworkX\n"
      ]
    },
    {
      "cell_type": "code",
      "execution_count": null,
      "metadata": {},
      "outputs": [],
      "source": [
        "# Create a simple graph\n",
        "G = nx.Graph()\n",
        "G.add_edges_from([(1, 2), (1, 3), (2, 3), (3, 4), (4, 5), (5, 6), (4, 6)])\n",
        "\n",
        "# Visualize the graph\n",
        "plt.figure(figsize=(8, 6))\n",
        "pos = nx.spring_layout(G)\n",
        "nx.draw(G, pos, with_labels=True, node_color='lightblue', \n",
        "        node_size=1000, font_size=16, font_weight='bold')\n",
        "plt.title(\"Simple Graph Example\")\n",
        "plt.show()\n",
        "\n",
        "# Basic graph statistics\n",
        "print(f\"Number of nodes: {G.number_of_nodes()}\")\n",
        "print(f\"Number of edges: {G.number_of_edges()}\")\n",
        "print(f\"Average degree: {sum(dict(G.degree()).values()) / G.number_of_nodes():.2f}\")\n",
        "print(f\"Clustering coefficient: {nx.average_clustering(G):.3f}\")\n"
      ]
    },
    {
      "cell_type": "raw",
      "metadata": {
        "vscode": {
          "languageId": "raw"
        }
      },
      "source": [
        "## 2. Classic Graph Analysis: Karate Club\n"
      ]
    },
    {
      "cell_type": "code",
      "execution_count": null,
      "metadata": {},
      "outputs": [],
      "source": [
        "# Load the famous Karate Club graph\n",
        "karate = nx.karate_club_graph()\n",
        "\n",
        "# Visualize with community coloring\n",
        "plt.figure(figsize=(12, 8))\n",
        "pos = nx.spring_layout(karate)\n",
        "\n",
        "# Color nodes by their club membership\n",
        "colors = ['red' if karate.nodes[node]['club'] == 'Mr. Hi' else 'blue' \n",
        "          for node in karate.nodes()]\n",
        "\n",
        "nx.draw(karate, pos, node_color=colors, with_labels=True, \n",
        "        node_size=500, font_size=10, font_weight='bold')\n",
        "plt.title(\"Karate Club Graph (Red: Mr. Hi's club, Blue: Officer's club)\")\n",
        "plt.show()\n",
        "\n",
        "# Graph metrics\n",
        "print(f\"Nodes: {karate.number_of_nodes()}\")\n",
        "print(f\"Edges: {karate.number_of_edges()}\")\n",
        "print(f\"Density: {nx.density(karate):.3f}\")\n",
        "print(f\"Average clustering: {nx.average_clustering(karate):.3f}\")\n",
        "\n",
        "# Quick PyTorch Geometric conversion example\n",
        "edge_list = list(karate.edges())\n",
        "edge_index = torch.tensor(edge_list, dtype=torch.long).t().contiguous()\n",
        "# Add reverse edges for undirected graph\n",
        "edge_index = torch.cat([edge_index, edge_index.flip(0)], dim=1)\n",
        "\n",
        "# Create random node features\n",
        "x = torch.randn(karate.number_of_nodes(), 16)\n",
        "\n",
        "# Create binary labels based on club membership\n",
        "y = torch.tensor([0 if karate.nodes[node]['club'] == 'Mr. Hi' else 1 \n",
        "                 for node in karate.nodes()], dtype=torch.long)\n",
        "\n",
        "karate_pyg = Data(x=x, edge_index=edge_index, y=y)\n",
        "print(f\"\\nPyTorch Geometric format:\")\n",
        "print(f\"Data: {karate_pyg}\")\n",
        "print(f\"Node features shape: {karate_pyg.x.shape}\")\n",
        "print(f\"Edge index shape: {karate_pyg.edge_index.shape}\")\n",
        "print(f\"Labels shape: {karate_pyg.y.shape}\")\n"
      ]
    }
  ],
  "metadata": {
    "language_info": {
      "name": "python"
    }
  },
  "nbformat": 4,
  "nbformat_minor": 2
}
