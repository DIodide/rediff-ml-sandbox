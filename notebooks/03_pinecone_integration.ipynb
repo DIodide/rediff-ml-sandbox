{
  "cells": [
    {
      "cell_type": "raw",
      "metadata": {
        "vscode": {
          "languageId": "raw"
        }
      },
      "source": [
        "# Pinecone Vector Database Integration\n",
        "\n",
        "This notebook demonstrates how to use Pinecone for vector storage and similarity search in your ML projects.\n"
      ]
    },
    {
      "cell_type": "code",
      "execution_count": 2,
      "metadata": {},
      "outputs": [
        {
          "name": "stderr",
          "output_type": "stream",
          "text": [
            "/Users/ibraheemamin/rediff/rediff-ml-sandbox/ml_env/lib/python3.12/site-packages/pydantic/_internal/_fields.py:198: UserWarning: Field name \"schema\" in \"DatabaseConfig.SupabaseConfig\" shadows an attribute in parent \"BaseModel\"\n",
            "  warnings.warn(\n",
            "Environment file .env not found\n"
          ]
        },
        {
          "name": "stdout",
          "output_type": "stream",
          "text": [
            "Setup complete!\n"
          ]
        }
      ],
      "source": [
        "# Setup and imports\n",
        "import numpy as np\n",
        "import pandas as pd\n",
        "from sentence_transformers import SentenceTransformer\n",
        "import os\n",
        "from dotenv import load_dotenv\n",
        "\n",
        "# Load our custom utilities\n",
        "import sys\n",
        "sys.path.append('../src')\n",
        "\n",
        "from utils.pinecone_utils import PineconeManager, PineconeConfig\n",
        "from utils.config_utils import setup_config, load_env_file\n",
        "\n",
        "# Load environment variables\n",
        "load_env_file()\n",
        "\n",
        "print(\"Setup complete!\")\n"
      ]
    },
    {
      "cell_type": "raw",
      "metadata": {
        "vscode": {
          "languageId": "raw"
        }
      },
      "source": [
        "## 1. Initialize Pinecone Connection\n",
        "\n",
        "First, make sure you have set up your environment variables in a `.env` file:\n",
        "```\n",
        "PINECONE_API_KEY=your_api_key_here\n",
        "PINECONE_INDEX_NAME=ml-sandbox-index\n",
        "```\n"
      ]
    },
    {
      "cell_type": "code",
      "execution_count": 3,
      "metadata": {},
      "outputs": [
        {
          "name": "stderr",
          "output_type": "stream",
          "text": [
            "Failed to initialize Pinecone client: You haven't specified an API key. Please either set the PINECONE_API_KEY environment variable or pass the 'api_key' keyword argument to the Pinecone client constructor.\n"
          ]
        },
        {
          "ename": "PineconeConfigurationError",
          "evalue": "You haven't specified an API key. Please either set the PINECONE_API_KEY environment variable or pass the 'api_key' keyword argument to the Pinecone client constructor.",
          "output_type": "error",
          "traceback": [
            "\u001b[31m---------------------------------------------------------------------------\u001b[39m",
            "\u001b[31mPineconeConfigurationError\u001b[39m                Traceback (most recent call last)",
            "\u001b[36mCell\u001b[39m\u001b[36m \u001b[39m\u001b[32mIn[3]\u001b[39m\u001b[32m, line 10\u001b[39m\n\u001b[32m      2\u001b[39m config = PineconeConfig(\n\u001b[32m      3\u001b[39m     api_key=os.getenv(\u001b[33m\"\u001b[39m\u001b[33mPINECONE_API_KEY\u001b[39m\u001b[33m\"\u001b[39m),\n\u001b[32m      4\u001b[39m     index_name=os.getenv(\u001b[33m\"\u001b[39m\u001b[33mPINECONE_INDEX_NAME\u001b[39m\u001b[33m\"\u001b[39m, \u001b[33m\"\u001b[39m\u001b[33mml-sandbox-index\u001b[39m\u001b[33m\"\u001b[39m),\n\u001b[32m      5\u001b[39m     dimension=\u001b[32m384\u001b[39m,  \u001b[38;5;66;03m# Using sentence-transformers dimension\u001b[39;00m\n\u001b[32m      6\u001b[39m     metric=\u001b[33m\"\u001b[39m\u001b[33mcosine\u001b[39m\u001b[33m\"\u001b[39m\n\u001b[32m      7\u001b[39m )\n\u001b[32m      9\u001b[39m \u001b[38;5;66;03m# Create manager\u001b[39;00m\n\u001b[32m---> \u001b[39m\u001b[32m10\u001b[39m pc_manager = \u001b[43mPineconeManager\u001b[49m\u001b[43m(\u001b[49m\u001b[43mconfig\u001b[49m\u001b[43m)\u001b[49m\n\u001b[32m     12\u001b[39m \u001b[38;5;66;03m# List existing indexes\u001b[39;00m\n\u001b[32m     13\u001b[39m \u001b[38;5;28mprint\u001b[39m(\u001b[33m\"\u001b[39m\u001b[33mExisting indexes:\u001b[39m\u001b[33m\"\u001b[39m, pc_manager.list_indexes())\n",
            "\u001b[36mFile \u001b[39m\u001b[32m~/rediff/rediff-ml-sandbox/notebooks/../src/utils/pinecone_utils.py:50\u001b[39m, in \u001b[36mPineconeManager.__init__\u001b[39m\u001b[34m(self, config)\u001b[39m\n\u001b[32m     48\u001b[39m \u001b[38;5;28mself\u001b[39m.pc = \u001b[38;5;28;01mNone\u001b[39;00m\n\u001b[32m     49\u001b[39m \u001b[38;5;28mself\u001b[39m.index = \u001b[38;5;28;01mNone\u001b[39;00m\n\u001b[32m---> \u001b[39m\u001b[32m50\u001b[39m \u001b[38;5;28;43mself\u001b[39;49m\u001b[43m.\u001b[49m\u001b[43m_initialize_client\u001b[49m\u001b[43m(\u001b[49m\u001b[43m)\u001b[49m\n",
            "\u001b[36mFile \u001b[39m\u001b[32m~/rediff/rediff-ml-sandbox/notebooks/../src/utils/pinecone_utils.py:55\u001b[39m, in \u001b[36mPineconeManager._initialize_client\u001b[39m\u001b[34m(self)\u001b[39m\n\u001b[32m     53\u001b[39m \u001b[38;5;250m\u001b[39m\u001b[33;03m\"\"\"Initialize Pinecone client.\"\"\"\u001b[39;00m\n\u001b[32m     54\u001b[39m \u001b[38;5;28;01mtry\u001b[39;00m:\n\u001b[32m---> \u001b[39m\u001b[32m55\u001b[39m     \u001b[38;5;28mself\u001b[39m.pc = \u001b[43mPinecone\u001b[49m\u001b[43m(\u001b[49m\u001b[43mapi_key\u001b[49m\u001b[43m=\u001b[49m\u001b[38;5;28;43mself\u001b[39;49m\u001b[43m.\u001b[49m\u001b[43mconfig\u001b[49m\u001b[43m.\u001b[49m\u001b[43mapi_key\u001b[49m\u001b[43m)\u001b[49m\n\u001b[32m     56\u001b[39m     logger.info(\u001b[33m\"\u001b[39m\u001b[33mPinecone client initialized successfully\u001b[39m\u001b[33m\"\u001b[39m)\n\u001b[32m     57\u001b[39m \u001b[38;5;28;01mexcept\u001b[39;00m \u001b[38;5;167;01mException\u001b[39;00m \u001b[38;5;28;01mas\u001b[39;00m e:\n",
            "\u001b[36mFile \u001b[39m\u001b[32m~/rediff/rediff-ml-sandbox/ml_env/lib/python3.12/site-packages/pinecone/pinecone.py:216\u001b[39m, in \u001b[36mPinecone.__init__\u001b[39m\u001b[34m(self, api_key, host, proxy_url, proxy_headers, ssl_ca_certs, ssl_verify, additional_headers, pool_threads, **kwargs)\u001b[39m\n\u001b[32m    211\u001b[39m     \u001b[38;5;28;01mif\u001b[39;00m deprecated_kwarg \u001b[38;5;129;01min\u001b[39;00m kwargs:\n\u001b[32m    212\u001b[39m         \u001b[38;5;28;01mraise\u001b[39;00m \u001b[38;5;167;01mNotImplementedError\u001b[39;00m(\n\u001b[32m    213\u001b[39m             \u001b[33mf\u001b[39m\u001b[33m\"\u001b[39m\u001b[33mPassing \u001b[39m\u001b[38;5;132;01m{\u001b[39;00mdeprecated_kwarg\u001b[38;5;132;01m}\u001b[39;00m\u001b[33m is no longer supported. Please pass individual settings such as proxy_url, proxy_headers, ssl_ca_certs, and ssl_verify directly to the Pinecone constructor as keyword arguments. See the README at \u001b[39m\u001b[38;5;132;01m{\u001b[39;00mdocslinks[\u001b[33m'\u001b[39m\u001b[33mREADME\u001b[39m\u001b[33m'\u001b[39m]\u001b[38;5;132;01m}\u001b[39;00m\u001b[33m for examples.\u001b[39m\u001b[33m\"\u001b[39m\n\u001b[32m    214\u001b[39m         )\n\u001b[32m--> \u001b[39m\u001b[32m216\u001b[39m \u001b[38;5;28mself\u001b[39m._config = \u001b[43mPineconeConfig\u001b[49m\u001b[43m.\u001b[49m\u001b[43mbuild\u001b[49m\u001b[43m(\u001b[49m\n\u001b[32m    217\u001b[39m \u001b[43m    \u001b[49m\u001b[43mapi_key\u001b[49m\u001b[43m=\u001b[49m\u001b[43mapi_key\u001b[49m\u001b[43m,\u001b[49m\n\u001b[32m    218\u001b[39m \u001b[43m    \u001b[49m\u001b[43mhost\u001b[49m\u001b[43m=\u001b[49m\u001b[43mhost\u001b[49m\u001b[43m,\u001b[49m\n\u001b[32m    219\u001b[39m \u001b[43m    \u001b[49m\u001b[43madditional_headers\u001b[49m\u001b[43m=\u001b[49m\u001b[43madditional_headers\u001b[49m\u001b[43m,\u001b[49m\n\u001b[32m    220\u001b[39m \u001b[43m    \u001b[49m\u001b[43mproxy_url\u001b[49m\u001b[43m=\u001b[49m\u001b[43mproxy_url\u001b[49m\u001b[43m,\u001b[49m\n\u001b[32m    221\u001b[39m \u001b[43m    \u001b[49m\u001b[43mproxy_headers\u001b[49m\u001b[43m=\u001b[49m\u001b[43mproxy_headers\u001b[49m\u001b[43m,\u001b[49m\n\u001b[32m    222\u001b[39m \u001b[43m    \u001b[49m\u001b[43mssl_ca_certs\u001b[49m\u001b[43m=\u001b[49m\u001b[43mssl_ca_certs\u001b[49m\u001b[43m,\u001b[49m\n\u001b[32m    223\u001b[39m \u001b[43m    \u001b[49m\u001b[43mssl_verify\u001b[49m\u001b[43m=\u001b[49m\u001b[43mssl_verify\u001b[49m\u001b[43m,\u001b[49m\n\u001b[32m    224\u001b[39m \u001b[43m    \u001b[49m\u001b[43m*\u001b[49m\u001b[43m*\u001b[49m\u001b[43mkwargs\u001b[49m\u001b[43m,\u001b[49m\n\u001b[32m    225\u001b[39m \u001b[43m\u001b[49m\u001b[43m)\u001b[49m\n\u001b[32m    226\u001b[39m \u001b[38;5;250m\u001b[39m\u001b[33;03m\"\"\" :meta private: \"\"\"\u001b[39;00m\n\u001b[32m    228\u001b[39m \u001b[38;5;28mself\u001b[39m._openapi_config = ConfigBuilder.build_openapi_config(\u001b[38;5;28mself\u001b[39m._config, **kwargs)\n",
            "\u001b[36mFile \u001b[39m\u001b[32m~/rediff/rediff-ml-sandbox/ml_env/lib/python3.12/site-packages/pinecone/config/pinecone_config.py:35\u001b[39m, in \u001b[36mPineconeConfig.build\u001b[39m\u001b[34m(api_key, host, additional_headers, **kwargs)\u001b[39m\n\u001b[32m     32\u001b[39m     \u001b[38;5;28;01mexcept\u001b[39;00m \u001b[38;5;167;01mException\u001b[39;00m \u001b[38;5;28;01mas\u001b[39;00m e:\n\u001b[32m     33\u001b[39m         logger.warn(\u001b[33mf\u001b[39m\u001b[33m\"\u001b[39m\u001b[33mIgnoring PINECONE_ADDITIONAL_HEADERS: \u001b[39m\u001b[38;5;132;01m{\u001b[39;00me\u001b[38;5;132;01m}\u001b[39;00m\u001b[33m\"\u001b[39m)\n\u001b[32m---> \u001b[39m\u001b[32m35\u001b[39m \u001b[38;5;28;01mreturn\u001b[39;00m \u001b[43mConfigBuilder\u001b[49m\u001b[43m.\u001b[49m\u001b[43mbuild\u001b[49m\u001b[43m(\u001b[49m\n\u001b[32m     36\u001b[39m \u001b[43m    \u001b[49m\u001b[43mapi_key\u001b[49m\u001b[43m=\u001b[49m\u001b[43mapi_key\u001b[49m\u001b[43m,\u001b[49m\u001b[43m \u001b[49m\u001b[43mhost\u001b[49m\u001b[43m=\u001b[49m\u001b[43mhost\u001b[49m\u001b[43m,\u001b[49m\u001b[43m \u001b[49m\u001b[43madditional_headers\u001b[49m\u001b[43m=\u001b[49m\u001b[43madditional_headers\u001b[49m\u001b[43m,\u001b[49m\u001b[43m \u001b[49m\u001b[43m*\u001b[49m\u001b[43m*\u001b[49m\u001b[43mkwargs\u001b[49m\n\u001b[32m     37\u001b[39m \u001b[43m\u001b[49m\u001b[43m)\u001b[49m\n",
            "\u001b[36mFile \u001b[39m\u001b[32m~/rediff/rediff-ml-sandbox/ml_env/lib/python3.12/site-packages/pinecone/config/config.py:67\u001b[39m, in \u001b[36mConfigBuilder.build\u001b[39m\u001b[34m(api_key, host, proxy_url, proxy_headers, ssl_ca_certs, ssl_verify, additional_headers, **kwargs)\u001b[39m\n\u001b[32m     64\u001b[39m source_tag = kwargs.pop(\u001b[33m\"\u001b[39m\u001b[33msource_tag\u001b[39m\u001b[33m\"\u001b[39m, \u001b[38;5;28;01mNone\u001b[39;00m)\n\u001b[32m     66\u001b[39m \u001b[38;5;28;01mif\u001b[39;00m \u001b[38;5;129;01mnot\u001b[39;00m api_key:\n\u001b[32m---> \u001b[39m\u001b[32m67\u001b[39m     \u001b[38;5;28;01mraise\u001b[39;00m PineconeConfigurationError(\n\u001b[32m     68\u001b[39m         \u001b[33m\"\u001b[39m\u001b[33mYou haven\u001b[39m\u001b[33m'\u001b[39m\u001b[33mt specified an API key. Please either set the PINECONE_API_KEY environment variable or pass the \u001b[39m\u001b[33m'\u001b[39m\u001b[33mapi_key\u001b[39m\u001b[33m'\u001b[39m\u001b[33m keyword argument to the Pinecone client constructor.\u001b[39m\u001b[33m\"\u001b[39m\n\u001b[32m     69\u001b[39m     )\n\u001b[32m     70\u001b[39m \u001b[38;5;28;01mif\u001b[39;00m \u001b[38;5;129;01mnot\u001b[39;00m host:\n\u001b[32m     71\u001b[39m     \u001b[38;5;28;01mraise\u001b[39;00m PineconeConfigurationError(\u001b[33m\"\u001b[39m\u001b[33mYou haven\u001b[39m\u001b[33m'\u001b[39m\u001b[33mt specified a host.\u001b[39m\u001b[33m\"\u001b[39m)\n",
            "\u001b[31mPineconeConfigurationError\u001b[39m: You haven't specified an API key. Please either set the PINECONE_API_KEY environment variable or pass the 'api_key' keyword argument to the Pinecone client constructor."
          ]
        }
      ],
      "source": [
        "# Initialize Pinecone configuration\n",
        "config = PineconeConfig(\n",
        "    api_key=os.getenv(\"PINECONE_API_KEY\"),\n",
        "    index_name=os.getenv(\"PINECONE_INDEX_NAME\", \"ml-sandbox-index\"),\n",
        "    dimension=384,  # Using sentence-transformers dimension\n",
        "    metric=\"cosine\"\n",
        ")\n",
        "\n",
        "# Create manager\n",
        "pc_manager = PineconeManager(config)\n",
        "\n",
        "# List existing indexes\n",
        "print(\"Existing indexes:\", pc_manager.list_indexes())\n",
        "\n",
        "# Create index (if it doesn't exist)\n",
        "success = pc_manager.create_index()\n",
        "if success:\n",
        "    print(f\"Index '{config.index_name}' is ready!\")\n",
        "    \n",
        "    # Connect to the index\n",
        "    pc_manager.connect_to_index()\n",
        "    print(\"Connected to index successfully!\")\n"
      ]
    }
  ],
  "metadata": {
    "kernelspec": {
      "display_name": "ml_env",
      "language": "python",
      "name": "python3"
    },
    "language_info": {
      "codemirror_mode": {
        "name": "ipython",
        "version": 3
      },
      "file_extension": ".py",
      "mimetype": "text/x-python",
      "name": "python",
      "nbconvert_exporter": "python",
      "pygments_lexer": "ipython3",
      "version": "3.12.11"
    }
  },
  "nbformat": 4,
  "nbformat_minor": 2
}
